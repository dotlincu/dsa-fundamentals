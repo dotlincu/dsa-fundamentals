{
 "cells": [
  {
   "cell_type": "code",
   "execution_count": 5,
   "id": "62cad7a8",
   "metadata": {},
   "outputs": [
    {
     "data": {
      "text/plain": [
       "[4, 5, 6]"
      ]
     },
     "execution_count": 5,
     "metadata": {},
     "output_type": "execute_result"
    }
   ],
   "source": [
    "listas = [[1,2,3], [4,5,6], [3,8,9], [3,4,5]]\n",
    "max(listas)"
   ]
  },
  {
   "cell_type": "code",
   "execution_count": 6,
   "id": "d23ed950",
   "metadata": {},
   "outputs": [
    {
     "data": {
      "text/plain": [
       "[3, 8, 9]"
      ]
     },
     "execution_count": 6,
     "metadata": {},
     "output_type": "execute_result"
    }
   ],
   "source": [
    "max(listas, key=sum)"
   ]
  },
  {
   "cell_type": "markdown",
   "id": "f70023bc",
   "metadata": {},
   "source": [
    "## MANIPULANDO ARQUIVOS"
   ]
  },
  {
   "cell_type": "markdown",
   "id": "7c5a53e5",
   "metadata": {},
   "source": [
    "### leitura"
   ]
  },
  {
   "cell_type": "code",
   "execution_count": 41,
   "id": "d917851a",
   "metadata": {},
   "outputs": [],
   "source": [
    "arq1 = open('cap06/arquivos/arquivo1.txt', 'r')     # 'r' = read"
   ]
  },
  {
   "cell_type": "code",
   "execution_count": 42,
   "id": "2930a3be",
   "metadata": {},
   "outputs": [
    {
     "data": {
      "text/plain": [
       "_io.TextIOWrapper"
      ]
     },
     "execution_count": 42,
     "metadata": {},
     "output_type": "execute_result"
    }
   ],
   "source": [
    "type(arq1)"
   ]
  },
  {
   "cell_type": "code",
   "execution_count": 43,
   "id": "887b481c",
   "metadata": {},
   "outputs": [
    {
     "name": "stdout",
     "output_type": "stream",
     "text": [
      "A Data Science Academy fornece cursos de alta qualidade e que transmitem muito conhecimento.\n"
     ]
    }
   ],
   "source": [
    "print(arq1.read())"
   ]
  },
  {
   "cell_type": "code",
   "execution_count": 4,
   "id": "93b55865",
   "metadata": {},
   "outputs": [
    {
     "name": "stdout",
     "output_type": "stream",
     "text": [
      "92\n"
     ]
    }
   ],
   "source": [
    "print(arq1.tell())"
   ]
  },
  {
   "cell_type": "code",
   "execution_count": 5,
   "id": "9c359a0d",
   "metadata": {},
   "outputs": [
    {
     "name": "stdout",
     "output_type": "stream",
     "text": [
      "\n"
     ]
    }
   ],
   "source": [
    "print(arq1.read())"
   ]
  },
  {
   "cell_type": "code",
   "execution_count": 6,
   "id": "67f0f577",
   "metadata": {},
   "outputs": [
    {
     "name": "stdout",
     "output_type": "stream",
     "text": [
      "0\n"
     ]
    }
   ],
   "source": [
    "print(arq1.seek(0,0))"
   ]
  },
  {
   "cell_type": "code",
   "execution_count": 7,
   "id": "41119d2f",
   "metadata": {},
   "outputs": [
    {
     "name": "stdout",
     "output_type": "stream",
     "text": [
      "A Data Science Academy fornece cursos de alta qualidade e que transmitem muito conhecimento.\n"
     ]
    }
   ],
   "source": [
    "print(arq1.read())"
   ]
  },
  {
   "cell_type": "markdown",
   "id": "8a0b7ce1",
   "metadata": {},
   "source": [
    "### escrita"
   ]
  },
  {
   "cell_type": "code",
   "execution_count": 8,
   "id": "a63af00f",
   "metadata": {},
   "outputs": [],
   "source": [
    "arq2 = open('cap06/arquivos/arquivo2.txt', 'w')     # 'w' = write"
   ]
  },
  {
   "cell_type": "code",
   "execution_count": 9,
   "id": "72b9e25a",
   "metadata": {},
   "outputs": [
    {
     "ename": "UnsupportedOperation",
     "evalue": "not readable",
     "output_type": "error",
     "traceback": [
      "\u001b[31m---------------------------------------------------------------------------\u001b[39m",
      "\u001b[31mUnsupportedOperation\u001b[39m                      Traceback (most recent call last)",
      "\u001b[36mCell\u001b[39m\u001b[36m \u001b[39m\u001b[32mIn[9]\u001b[39m\u001b[32m, line 1\u001b[39m\n\u001b[32m----> \u001b[39m\u001b[32m1\u001b[39m \u001b[38;5;28mprint\u001b[39m(\u001b[43marq2\u001b[49m\u001b[43m.\u001b[49m\u001b[43mread\u001b[49m\u001b[43m(\u001b[49m\u001b[43m)\u001b[49m)\n",
      "\u001b[31mUnsupportedOperation\u001b[39m: not readable"
     ]
    }
   ],
   "source": [
    "print(arq2.read())"
   ]
  },
  {
   "cell_type": "code",
   "execution_count": 10,
   "id": "fe047206",
   "metadata": {},
   "outputs": [
    {
     "data": {
      "text/plain": [
       "18"
      ]
     },
     "execution_count": 10,
     "metadata": {},
     "output_type": "execute_result"
    }
   ],
   "source": [
    "arq2.write(\"Aprendendo Python\\n\")"
   ]
  },
  {
   "cell_type": "code",
   "execution_count": 11,
   "id": "be4bd053",
   "metadata": {},
   "outputs": [],
   "source": [
    "arq2.close()"
   ]
  },
  {
   "cell_type": "code",
   "execution_count": 12,
   "id": "9363c822",
   "metadata": {},
   "outputs": [],
   "source": [
    "arq2 = open('cap06/arquivos/arquivo2.txt', 'r')     # 'r' = read"
   ]
  },
  {
   "cell_type": "code",
   "execution_count": 35,
   "id": "0533b75b",
   "metadata": {},
   "outputs": [
    {
     "name": "stdout",
     "output_type": "stream",
     "text": [
      "\n"
     ]
    }
   ],
   "source": [
    "print(arq2.read())"
   ]
  },
  {
   "cell_type": "code",
   "execution_count": 14,
   "id": "029d5a83",
   "metadata": {},
   "outputs": [],
   "source": [
    "arq2 = open('cap06/arquivos/arquivo2.txt', 'a')     # 'a' = append"
   ]
  },
  {
   "cell_type": "code",
   "execution_count": 15,
   "id": "a6406fdb",
   "metadata": {},
   "outputs": [
    {
     "data": {
      "text/plain": [
       "24"
      ]
     },
     "execution_count": 15,
     "metadata": {},
     "output_type": "execute_result"
    }
   ],
   "source": [
    "arq2.write('Escrevendo no arquivo 2\\n')"
   ]
  },
  {
   "cell_type": "code",
   "execution_count": 16,
   "id": "e561e455",
   "metadata": {},
   "outputs": [],
   "source": [
    "arq2.close()"
   ]
  },
  {
   "cell_type": "code",
   "execution_count": 17,
   "id": "3821ce08",
   "metadata": {},
   "outputs": [],
   "source": [
    "arq2 = open('cap06/arquivos/arquivo2.txt', 'r')    # 'r' = read"
   ]
  },
  {
   "cell_type": "code",
   "execution_count": 18,
   "id": "795eb578",
   "metadata": {},
   "outputs": [
    {
     "name": "stdout",
     "output_type": "stream",
     "text": [
      "Aprendendo Python\n",
      "Escrevendo no arquivo 2\n",
      "\n"
     ]
    }
   ],
   "source": [
    "print(arq2.read())"
   ]
  },
  {
   "cell_type": "code",
   "execution_count": 19,
   "id": "6aa22af2",
   "metadata": {},
   "outputs": [
    {
     "data": {
      "text/plain": [
       "0"
      ]
     },
     "execution_count": 19,
     "metadata": {},
     "output_type": "execute_result"
    }
   ],
   "source": [
    "arq2.seek(0,0)"
   ]
  },
  {
   "cell_type": "code",
   "execution_count": 20,
   "id": "4e20f967",
   "metadata": {},
   "outputs": [
    {
     "name": "stdout",
     "output_type": "stream",
     "text": [
      "Aprendendo Python\n",
      "Escrevendo no arquivo 2\n",
      "\n"
     ]
    }
   ],
   "source": [
    "print(arq2.read())"
   ]
  },
  {
   "cell_type": "markdown",
   "id": "bcb90ccc",
   "metadata": {},
   "source": [
    "### dataset em uma unica linha"
   ]
  },
  {
   "cell_type": "code",
   "execution_count": 50,
   "id": "c60e4aa3",
   "metadata": {},
   "outputs": [],
   "source": [
    "f = open('cap06/arquivos/salarios.csv', 'r')    # 'r' = read"
   ]
  },
  {
   "cell_type": "code",
   "execution_count": null,
   "id": "3a6c6146",
   "metadata": {},
   "outputs": [],
   "source": [
    "# data = f.read()       # le o arquivo inteiro\n",
    "data = f.read(1000)     # le 1000 bytes do arquivo"
   ]
  },
  {
   "cell_type": "code",
   "execution_count": 52,
   "id": "d10c076f",
   "metadata": {},
   "outputs": [],
   "source": [
    "rows = data.split('\\n')"
   ]
  },
  {
   "cell_type": "code",
   "execution_count": 53,
   "id": "882cbca3",
   "metadata": {},
   "outputs": [
    {
     "name": "stdout",
     "output_type": "stream",
     "text": [
      "['Name,Position Title,Department,Employee Annual Salary', '\"AARON,  ELVIA J\",WATER RATE TAKER,WATER MGMNT,$88967.00', '\"AARON,  JEFFERY M\",POLICE OFFICER,POLICE,$80778.00', '\"AARON,  KARINA\",POLICE OFFICER,POLICE,$80778.00', '\"AARON,  KIMBERLEI R\",CHIEF CONTRACT EXPEDITER,GENERAL SERVICES,$84780.00', '\"ABAD JR,  VICENTE M\",CIVIL ENGINEER IV,WATER MGMNT,$104736.00', '\"ABARCA,  ANABEL\",ASST TO THE ALDERMAN,CITY COUNCIL,$70764.00', '\"ABARCA,  EMMANUEL\",GENERAL LABORER - DSS,STREETS & SAN,$40560.00', '\"ABBATACOLA,  ROBERT J\",ELECTRICAL MECHANIC,AVIATION,$91520.00', '\"ABBATEMARCO,  JAMES J\",FIRE ENGINEER,FIRE,$90456.00', '\"ABBATE,  TERRY M\",POLICE OFFICER,POLICE,$86520.00', '\"ABBOTT,  BETTY L\",FOSTER GRANDPARENT,FAMILY & SUPPORT,$2756.00', '\"ABBOTT,  LYNISE M\",CLERK III,POLICE,$43920.00', '\"ABBRUZZESE,  WILLIAM J\",INVESTIGATOR - IPRA II,IPRA,$72468.00', '\"ABDALLAH,  ZAID\",POLICE OFFICER,POLICE,$69684.00', '\"ABDELHADI,  ABDALMAHD\",POLICE OFFICER,POLICE,$80778.00', '\"ABDELLATIF,  AREF R\",FIREFIGHTER (PER ARBITRATORS AWARD)-PARAMEDIC,FIRE,$98']\n"
     ]
    }
   ],
   "source": [
    "print(rows)"
   ]
  },
  {
   "cell_type": "code",
   "execution_count": 55,
   "id": "4cc00ce3",
   "metadata": {},
   "outputs": [],
   "source": [
    "f = open('cap06/arquivos/salarios.csv', 'r')    # 'r' = read"
   ]
  },
  {
   "cell_type": "code",
   "execution_count": null,
   "id": "b70c5655",
   "metadata": {},
   "outputs": [],
   "source": [
    "# data = f.read()       # le o arquivo inteiro\n",
    "data = f.read(1000)     # le 1000 bytes do arquivo"
   ]
  },
  {
   "cell_type": "code",
   "execution_count": 57,
   "id": "d305f420",
   "metadata": {},
   "outputs": [],
   "source": [
    "rows = data.split('\\n')"
   ]
  },
  {
   "cell_type": "code",
   "execution_count": 58,
   "id": "fe513349",
   "metadata": {},
   "outputs": [],
   "source": [
    "full_data = []"
   ]
  },
  {
   "cell_type": "code",
   "execution_count": 59,
   "id": "917fd8dc",
   "metadata": {},
   "outputs": [],
   "source": [
    "for row in rows: \n",
    "    split_row = row.split(',')\n",
    "    full_data.append(split_row)"
   ]
  },
  {
   "cell_type": "code",
   "execution_count": 60,
   "id": "852145f0",
   "metadata": {},
   "outputs": [
    {
     "name": "stdout",
     "output_type": "stream",
     "text": [
      "[['Name', 'Position Title', 'Department', 'Employee Annual Salary'], ['\"AARON', '  ELVIA J\"', 'WATER RATE TAKER', 'WATER MGMNT', '$88967.00'], ['\"AARON', '  JEFFERY M\"', 'POLICE OFFICER', 'POLICE', '$80778.00'], ['\"AARON', '  KARINA\"', 'POLICE OFFICER', 'POLICE', '$80778.00'], ['\"AARON', '  KIMBERLEI R\"', 'CHIEF CONTRACT EXPEDITER', 'GENERAL SERVICES', '$84780.00'], ['\"ABAD JR', '  VICENTE M\"', 'CIVIL ENGINEER IV', 'WATER MGMNT', '$104736.00'], ['\"ABARCA', '  ANABEL\"', 'ASST TO THE ALDERMAN', 'CITY COUNCIL', '$70764.00'], ['\"ABARCA', '  EMMANUEL\"', 'GENERAL LABORER - DSS', 'STREETS & SAN', '$40560.00'], ['\"ABBATACOLA', '  ROBERT J\"', 'ELECTRICAL MECHANIC', 'AVIATION', '$91520.00'], ['\"ABBATEMARCO', '  JAMES J\"', 'FIRE ENGINEER', 'FIRE', '$90456.00'], ['\"ABBATE', '  TERRY M\"', 'POLICE OFFICER', 'POLICE', '$86520.00'], ['\"ABBOTT', '  BETTY L\"', 'FOSTER GRANDPARENT', 'FAMILY & SUPPORT', '$2756.00'], ['\"ABBOTT', '  LYNISE M\"', 'CLERK III', 'POLICE', '$43920.00'], ['\"ABBRUZZESE', '  WILLIAM J\"', 'INVESTIGATOR - IPRA II', 'IPRA', '$72468.00'], ['\"ABDALLAH', '  ZAID\"', 'POLICE OFFICER', 'POLICE', '$69684.00'], ['\"ABDELHADI', '  ABDALMAHD\"', 'POLICE OFFICER', 'POLICE', '$80778.00'], ['\"ABDELLATIF', '  AREF R\"', 'FIREFIGHTER (PER ARBITRATORS AWARD)-PARAMEDIC', 'FIRE', '$98']]\n"
     ]
    }
   ],
   "source": [
    "print(full_data)"
   ]
  },
  {
   "cell_type": "code",
   "execution_count": 31,
   "id": "10810f7a",
   "metadata": {},
   "outputs": [
    {
     "data": {
      "text/plain": [
       "list"
      ]
     },
     "execution_count": 31,
     "metadata": {},
     "output_type": "execute_result"
    }
   ],
   "source": [
    "type(rows)"
   ]
  },
  {
   "cell_type": "code",
   "execution_count": 32,
   "id": "6f25e6f7",
   "metadata": {},
   "outputs": [
    {
     "data": {
      "text/plain": [
       "list"
      ]
     },
     "execution_count": 32,
     "metadata": {},
     "output_type": "execute_result"
    }
   ],
   "source": [
    "type(full_data)"
   ]
  },
  {
   "cell_type": "markdown",
   "id": "6941e65b",
   "metadata": {},
   "source": [
    "### contando linhas"
   ]
  },
  {
   "cell_type": "code",
   "execution_count": 68,
   "id": "ce52bcb3",
   "metadata": {},
   "outputs": [],
   "source": [
    "f = open('cap06/arquivos/salarios.csv', 'r')    # 'r' = read"
   ]
  },
  {
   "cell_type": "code",
   "execution_count": 69,
   "id": "31304e3c",
   "metadata": {},
   "outputs": [],
   "source": [
    "data = f.read()     # le 1000 bytes do arquivo"
   ]
  },
  {
   "cell_type": "code",
   "execution_count": 70,
   "id": "0b00c830",
   "metadata": {},
   "outputs": [],
   "source": [
    "rows = data.split('\\n')"
   ]
  },
  {
   "cell_type": "code",
   "execution_count": 71,
   "id": "08e0a1e0",
   "metadata": {},
   "outputs": [],
   "source": [
    "full_data = []"
   ]
  },
  {
   "cell_type": "code",
   "execution_count": 72,
   "id": "712dee9d",
   "metadata": {},
   "outputs": [],
   "source": [
    "for row in rows:\n",
    "    split_row = row.split(',')\n",
    "    full_data.append(split_row)"
   ]
  },
  {
   "cell_type": "code",
   "execution_count": 73,
   "id": "5e6ef111",
   "metadata": {},
   "outputs": [],
   "source": [
    "count = 0\n",
    "for row in full_data:\n",
    "    count +=1"
   ]
  },
  {
   "cell_type": "code",
   "execution_count": 74,
   "id": "3806cbca",
   "metadata": {},
   "outputs": [
    {
     "name": "stdout",
     "output_type": "stream",
     "text": [
      "32184\n"
     ]
    }
   ],
   "source": [
    "print(count)"
   ]
  },
  {
   "cell_type": "markdown",
   "id": "22fef113",
   "metadata": {},
   "source": [
    "### contando colunas"
   ]
  },
  {
   "cell_type": "code",
   "execution_count": 75,
   "id": "e0d61c98",
   "metadata": {},
   "outputs": [],
   "source": [
    "f = open('cap06/arquivos/salarios.csv', 'r')    # 'r' = read\n",
    "data = f.read()     # le 1000 bytes do arquivo\n",
    "rows = data.split('\\n')\n",
    "full_data = []"
   ]
  },
  {
   "cell_type": "code",
   "execution_count": 76,
   "id": "a1573af6",
   "metadata": {},
   "outputs": [],
   "source": [
    "for row in rows:\n",
    "    split_row = row.split(',')\n",
    "    full_data.append(split_row)\n",
    "    first_row = full_data[0]\n",
    "count = 0"
   ]
  },
  {
   "cell_type": "code",
   "execution_count": 77,
   "id": "98ca5ec4",
   "metadata": {},
   "outputs": [],
   "source": [
    "for column in first_row:\n",
    "    count +=1"
   ]
  },
  {
   "cell_type": "code",
   "execution_count": null,
   "id": "d13d5966",
   "metadata": {},
   "outputs": [
    {
     "name": "stdout",
     "output_type": "stream",
     "text": [
      "4\n"
     ]
    }
   ],
   "source": [
    "print(count)"
   ]
  },
  {
   "cell_type": "markdown",
   "id": "67928362",
   "metadata": {},
   "source": [
    "### gerando arquivo pelo jupyter notebook"
   ]
  },
  {
   "cell_type": "code",
   "execution_count": 80,
   "id": "4f91e32a",
   "metadata": {},
   "outputs": [
    {
     "name": "stdout",
     "output_type": "stream",
     "text": [
      "Overwriting cap06/arquivos/arquivo3.txt\n"
     ]
    }
   ],
   "source": [
    "%%writefile cap06/arquivos/arquivo3.txt\n",
    "Este arquivo foi gerado pelo Jupyter Notebook.\n",
    "Podemos gerar quantas linhas quisermos e o Jupyter grava no arquivo final."
   ]
  },
  {
   "cell_type": "code",
   "execution_count": 81,
   "id": "4d26d5db",
   "metadata": {},
   "outputs": [],
   "source": [
    "arq3 = open('cap06/arquivos/arquivo3.txt', 'r')    # 'r' = read"
   ]
  },
  {
   "cell_type": "code",
   "execution_count": 82,
   "id": "5d2b85bd",
   "metadata": {},
   "outputs": [
    {
     "data": {
      "text/plain": [
       "'Este arquivo foi gerado pelo Jupyter Notebook.\\nPodemos gerar quantas linhas quisermos e o Jupyter grava no arquivo final.\\n'"
      ]
     },
     "execution_count": 82,
     "metadata": {},
     "output_type": "execute_result"
    }
   ],
   "source": [
    "arq3.read()"
   ]
  },
  {
   "cell_type": "code",
   "execution_count": 83,
   "id": "696b9cf1",
   "metadata": {},
   "outputs": [
    {
     "data": {
      "text/plain": [
       "''"
      ]
     },
     "execution_count": 83,
     "metadata": {},
     "output_type": "execute_result"
    }
   ],
   "source": [
    "arq3.read()"
   ]
  },
  {
   "cell_type": "code",
   "execution_count": 84,
   "id": "a3c62acc",
   "metadata": {},
   "outputs": [
    {
     "data": {
      "text/plain": [
       "0"
      ]
     },
     "execution_count": 84,
     "metadata": {},
     "output_type": "execute_result"
    }
   ],
   "source": [
    "arq3.seek(0,0)"
   ]
  },
  {
   "cell_type": "code",
   "execution_count": 85,
   "id": "b03c6ee9",
   "metadata": {},
   "outputs": [
    {
     "data": {
      "text/plain": [
       "'Este arquivo foi gerado pelo Jupyter Notebook.\\nPodemos gerar quantas linhas quisermos e o Jupyter grava no arquivo final.\\n'"
      ]
     },
     "execution_count": 85,
     "metadata": {},
     "output_type": "execute_result"
    }
   ],
   "source": [
    "arq3.read()"
   ]
  },
  {
   "cell_type": "code",
   "execution_count": 86,
   "id": "ba3b6fed",
   "metadata": {},
   "outputs": [
    {
     "data": {
      "text/plain": [
       "['Este arquivo foi gerado pelo Jupyter Notebook.\\n',\n",
       " 'Podemos gerar quantas linhas quisermos e o Jupyter grava no arquivo final.\\n']"
      ]
     },
     "execution_count": 86,
     "metadata": {},
     "output_type": "execute_result"
    }
   ],
   "source": [
    "arq3.seek(0,0)\n",
    "arq3.readlines()"
   ]
  },
  {
   "cell_type": "code",
   "execution_count": 87,
   "id": "164d3f8a",
   "metadata": {},
   "outputs": [
    {
     "name": "stdout",
     "output_type": "stream",
     "text": [
      "Este arquivo foi gerado pelo Jupyter Notebook.\n",
      "\n",
      "Podemos gerar quantas linhas quisermos e o Jupyter grava no arquivo final.\n",
      "\n"
     ]
    }
   ],
   "source": [
    "for line in open('cap06/arquivos/arquivo3.txt', 'r'):\n",
    "    print(line)"
   ]
  },
  {
   "cell_type": "markdown",
   "id": "e64d745d",
   "metadata": {},
   "source": [
    "### importando dataset com pandas"
   ]
  },
  {
   "cell_type": "code",
   "execution_count": 88,
   "id": "5847fe63",
   "metadata": {},
   "outputs": [],
   "source": [
    "import pandas as pd"
   ]
  },
  {
   "cell_type": "code",
   "execution_count": 89,
   "id": "78c1b421",
   "metadata": {},
   "outputs": [
    {
     "data": {
      "text/plain": [
       "'2.2.2'"
      ]
     },
     "execution_count": 89,
     "metadata": {},
     "output_type": "execute_result"
    }
   ],
   "source": [
    "pd.__version__"
   ]
  },
  {
   "cell_type": "code",
   "execution_count": 94,
   "id": "915e7e6c",
   "metadata": {},
   "outputs": [],
   "source": [
    "arquivo = \"cap06/arquivos/salarios.csv\""
   ]
  },
  {
   "cell_type": "code",
   "execution_count": 95,
   "id": "a867388b",
   "metadata": {},
   "outputs": [],
   "source": [
    "df = pd.read_csv(arquivo, sep=',', header=0, encoding='latin1')"
   ]
  },
  {
   "cell_type": "code",
   "execution_count": 96,
   "id": "6cb6124d",
   "metadata": {},
   "outputs": [
    {
     "data": {
      "text/html": [
       "<div>\n",
       "<style scoped>\n",
       "    .dataframe tbody tr th:only-of-type {\n",
       "        vertical-align: middle;\n",
       "    }\n",
       "\n",
       "    .dataframe tbody tr th {\n",
       "        vertical-align: top;\n",
       "    }\n",
       "\n",
       "    .dataframe thead th {\n",
       "        text-align: right;\n",
       "    }\n",
       "</style>\n",
       "<table border=\"1\" class=\"dataframe\">\n",
       "  <thead>\n",
       "    <tr style=\"text-align: right;\">\n",
       "      <th></th>\n",
       "      <th>Name</th>\n",
       "      <th>Position Title</th>\n",
       "      <th>Department</th>\n",
       "      <th>Employee Annual Salary</th>\n",
       "    </tr>\n",
       "  </thead>\n",
       "  <tbody>\n",
       "    <tr>\n",
       "      <th>0</th>\n",
       "      <td>AARON,  ELVIA J</td>\n",
       "      <td>WATER RATE TAKER</td>\n",
       "      <td>WATER MGMNT</td>\n",
       "      <td>$88967.00</td>\n",
       "    </tr>\n",
       "    <tr>\n",
       "      <th>1</th>\n",
       "      <td>AARON,  JEFFERY M</td>\n",
       "      <td>POLICE OFFICER</td>\n",
       "      <td>POLICE</td>\n",
       "      <td>$80778.00</td>\n",
       "    </tr>\n",
       "    <tr>\n",
       "      <th>2</th>\n",
       "      <td>AARON,  KARINA</td>\n",
       "      <td>POLICE OFFICER</td>\n",
       "      <td>POLICE</td>\n",
       "      <td>$80778.00</td>\n",
       "    </tr>\n",
       "    <tr>\n",
       "      <th>3</th>\n",
       "      <td>AARON,  KIMBERLEI R</td>\n",
       "      <td>CHIEF CONTRACT EXPEDITER</td>\n",
       "      <td>GENERAL SERVICES</td>\n",
       "      <td>$84780.00</td>\n",
       "    </tr>\n",
       "    <tr>\n",
       "      <th>4</th>\n",
       "      <td>ABAD JR,  VICENTE M</td>\n",
       "      <td>CIVIL ENGINEER IV</td>\n",
       "      <td>WATER MGMNT</td>\n",
       "      <td>$104736.00</td>\n",
       "    </tr>\n",
       "    <tr>\n",
       "      <th>5</th>\n",
       "      <td>ABARCA,  ANABEL</td>\n",
       "      <td>ASST TO THE ALDERMAN</td>\n",
       "      <td>CITY COUNCIL</td>\n",
       "      <td>$70764.00</td>\n",
       "    </tr>\n",
       "    <tr>\n",
       "      <th>6</th>\n",
       "      <td>ABARCA,  EMMANUEL</td>\n",
       "      <td>GENERAL LABORER - DSS</td>\n",
       "      <td>STREETS &amp; SAN</td>\n",
       "      <td>$40560.00</td>\n",
       "    </tr>\n",
       "    <tr>\n",
       "      <th>7</th>\n",
       "      <td>ABBATACOLA,  ROBERT J</td>\n",
       "      <td>ELECTRICAL MECHANIC</td>\n",
       "      <td>AVIATION</td>\n",
       "      <td>$91520.00</td>\n",
       "    </tr>\n",
       "    <tr>\n",
       "      <th>8</th>\n",
       "      <td>ABBATEMARCO,  JAMES J</td>\n",
       "      <td>FIRE ENGINEER</td>\n",
       "      <td>FIRE</td>\n",
       "      <td>$90456.00</td>\n",
       "    </tr>\n",
       "    <tr>\n",
       "      <th>9</th>\n",
       "      <td>ABBATE,  TERRY M</td>\n",
       "      <td>POLICE OFFICER</td>\n",
       "      <td>POLICE</td>\n",
       "      <td>$86520.00</td>\n",
       "    </tr>\n",
       "  </tbody>\n",
       "</table>\n",
       "</div>"
      ],
      "text/plain": [
       "                    Name            Position Title        Department  \\\n",
       "0        AARON,  ELVIA J          WATER RATE TAKER       WATER MGMNT   \n",
       "1      AARON,  JEFFERY M            POLICE OFFICER            POLICE   \n",
       "2         AARON,  KARINA            POLICE OFFICER            POLICE   \n",
       "3    AARON,  KIMBERLEI R  CHIEF CONTRACT EXPEDITER  GENERAL SERVICES   \n",
       "4    ABAD JR,  VICENTE M         CIVIL ENGINEER IV       WATER MGMNT   \n",
       "5        ABARCA,  ANABEL      ASST TO THE ALDERMAN      CITY COUNCIL   \n",
       "6      ABARCA,  EMMANUEL     GENERAL LABORER - DSS     STREETS & SAN   \n",
       "7  ABBATACOLA,  ROBERT J       ELECTRICAL MECHANIC          AVIATION   \n",
       "8  ABBATEMARCO,  JAMES J             FIRE ENGINEER              FIRE   \n",
       "9       ABBATE,  TERRY M            POLICE OFFICER            POLICE   \n",
       "\n",
       "  Employee Annual Salary  \n",
       "0              $88967.00  \n",
       "1              $80778.00  \n",
       "2              $80778.00  \n",
       "3              $84780.00  \n",
       "4             $104736.00  \n",
       "5              $70764.00  \n",
       "6              $40560.00  \n",
       "7              $91520.00  \n",
       "8              $90456.00  \n",
       "9              $86520.00  "
      ]
     },
     "execution_count": 96,
     "metadata": {},
     "output_type": "execute_result"
    }
   ],
   "source": [
    "df.head(10)"
   ]
  },
  {
   "cell_type": "code",
   "execution_count": 97,
   "id": "72ed9481",
   "metadata": {},
   "outputs": [
    {
     "data": {
      "text/plain": [
       "Position Title\n",
       "POLICE OFFICER                            9489\n",
       "FIREFIGHTER-EMT                           1191\n",
       "SERGEANT                                  1138\n",
       "FIREFIGHTER                                970\n",
       "POLICE OFFICER (ASSIGNED AS DETECTIVE)     808\n",
       "                                          ... \n",
       "FOREMAN OF WINDOW WASHERS                    1\n",
       "SUPVSR OF INFORMATION SERVICES               1\n",
       "MANAGER OF TAX POLICY                        1\n",
       "FOREMAN OF ARCHITECTURAL IRON WORKERS        1\n",
       "MECHANICAL ENGINEER IV                       1\n",
       "Name: count, Length: 1094, dtype: int64"
      ]
     },
     "execution_count": 97,
     "metadata": {},
     "output_type": "execute_result"
    }
   ],
   "source": [
    "df['Position Title'].value_counts()"
   ]
  },
  {
   "cell_type": "markdown",
   "id": "2464e1a1",
   "metadata": {},
   "source": [
    "### manipulando arquivos json"
   ]
  },
  {
   "cell_type": "code",
   "execution_count": 98,
   "id": "6f541afe",
   "metadata": {},
   "outputs": [],
   "source": [
    "dict_guido = {'name': 'Guido van Rossum', 'age': 66, 'city': 'Amsterdam', 'job': 'programmer'}"
   ]
  },
  {
   "cell_type": "code",
   "execution_count": 99,
   "id": "3c0ddd77",
   "metadata": {},
   "outputs": [
    {
     "name": "stdout",
     "output_type": "stream",
     "text": [
      "name Guido van Rossum\n",
      "age 66\n",
      "city Amsterdam\n",
      "job programmer\n"
     ]
    }
   ],
   "source": [
    "for key, value in dict_guido.items():\n",
    "    print(key, value)"
   ]
  },
  {
   "cell_type": "code",
   "execution_count": 100,
   "id": "29eee50d",
   "metadata": {},
   "outputs": [],
   "source": [
    "import json"
   ]
  },
  {
   "cell_type": "code",
   "execution_count": 110,
   "id": "7f352919",
   "metadata": {},
   "outputs": [
    {
     "data": {
      "text/plain": [
       "'{\"name\": \"Guido van Rossum\", \"age\": 66, \"city\": \"Amsterdam\", \"job\": \"programmer\"}'"
      ]
     },
     "execution_count": 110,
     "metadata": {},
     "output_type": "execute_result"
    }
   ],
   "source": [
    "json.dumps(dict_guido)"
   ]
  },
  {
   "cell_type": "code",
   "execution_count": 111,
   "id": "cf0260f8",
   "metadata": {},
   "outputs": [],
   "source": [
    "with open('cap06/arquivos/dict_guido.json', 'w') as arquivo:\n",
    "    arquivo.write(json.dumps(dict_guido))"
   ]
  },
  {
   "cell_type": "code",
   "execution_count": 112,
   "id": "433b7f44",
   "metadata": {},
   "outputs": [],
   "source": [
    "with open('cap06/arquivos/dict_guido.json', 'r') as arquivo:\n",
    "    texto = arquivo.read()\n",
    "    dados = json.loads(texto)"
   ]
  },
  {
   "cell_type": "code",
   "execution_count": 113,
   "id": "fca2334c",
   "metadata": {},
   "outputs": [
    {
     "data": {
      "text/plain": [
       "{'name': 'Guido van Rossum',\n",
       " 'age': 66,\n",
       " 'city': 'Amsterdam',\n",
       " 'job': 'programmer'}"
      ]
     },
     "execution_count": 113,
     "metadata": {},
     "output_type": "execute_result"
    }
   ],
   "source": [
    "dados"
   ]
  },
  {
   "cell_type": "code",
   "execution_count": 116,
   "id": "aff251d8",
   "metadata": {},
   "outputs": [
    {
     "name": "stdout",
     "output_type": "stream",
     "text": [
      "Guido van Rossum\n"
     ]
    }
   ],
   "source": [
    "print(dados['name'])"
   ]
  },
  {
   "cell_type": "markdown",
   "id": "233da8b7",
   "metadata": {},
   "source": [
    "### extracao de arquivo web"
   ]
  },
  {
   "cell_type": "code",
   "execution_count": 118,
   "id": "566cce90",
   "metadata": {},
   "outputs": [],
   "source": [
    "from urllib.request import urlopen\n",
    "\n",
    "response = urlopen('https://vimeo.com/api/v2/video/76979871.json').read().decode('utf-8')\n",
    "dados = json.loads(response)[0]"
   ]
  },
  {
   "cell_type": "code",
   "execution_count": 119,
   "id": "dd3b0e97",
   "metadata": {},
   "outputs": [
    {
     "data": {
      "text/plain": [
       "{'id': 76979871,\n",
       " 'title': 'The New Vimeo Player (You Know, For Videos)',\n",
       " 'description': 'It may look (mostly) the same on the surface, but under the hood we totally rebuilt our player. Here’s a quick rundown of some of the coolest new features:<br />\\r\\n<br />\\r\\n• Lightning fast playback<br />\\r\\n• Redesigned Share screen<br />\\r\\n• Closed caption and subtitle compatible<br />\\r\\n• HTML5 by default<br />\\r\\n• Purchase-from-player functionality for embedded Vimeo On Demand trailers<br />\\r\\n• More responsive than ever (go ahead, resize it, we dare you!!!)<br />\\r\\n<br />\\r\\nWe’re really proud of these updates. So proud that we made a spiffy new page to showcase all the reasons why we have the best video player in the galaxy. Check it out here: http://vimeo.com/player<br />\\r\\n<br />\\r\\nIn short, this is a player that even haters can love.',\n",
       " 'url': 'https://vimeo.com/76979871',\n",
       " 'upload_date': '2013-10-15 14:08:29',\n",
       " 'thumbnail_small': 'https://i.vimeocdn.com/video/452001751-8216e0571c251a09d7a8387550942d89f7f86f6398f8ed886e639b0dd50d3c90-d_100x75?region=us',\n",
       " 'thumbnail_medium': 'https://i.vimeocdn.com/video/452001751-8216e0571c251a09d7a8387550942d89f7f86f6398f8ed886e639b0dd50d3c90-d_200x150?region=us',\n",
       " 'thumbnail_large': 'https://i.vimeocdn.com/video/452001751-8216e0571c251a09d7a8387550942d89f7f86f6398f8ed886e639b0dd50d3c90-d_640?region=us',\n",
       " 'user_id': 152184,\n",
       " 'user_name': 'Vimeo',\n",
       " 'user_url': 'https://vimeo.com/staff',\n",
       " 'user_portrait_small': 'https://i.vimeocdn.com/portrait/99253974_30x30?subrect=20%2C15%2C985%2C980&r=cover&sig=b06770b44721cb02eecdc7cf1e7a11f399d492e3bf56142250f634c2a72a40bb&v=1&region=us',\n",
       " 'user_portrait_medium': 'https://i.vimeocdn.com/portrait/99253974_75x75?subrect=20%2C15%2C985%2C980&r=cover&sig=b06770b44721cb02eecdc7cf1e7a11f399d492e3bf56142250f634c2a72a40bb&v=1&region=us',\n",
       " 'user_portrait_large': 'https://i.vimeocdn.com/portrait/99253974_100x100?subrect=20%2C15%2C985%2C980&r=cover&sig=b06770b44721cb02eecdc7cf1e7a11f399d492e3bf56142250f634c2a72a40bb&v=1&region=us',\n",
       " 'user_portrait_huge': 'https://i.vimeocdn.com/portrait/99253974_300x300?subrect=20%2C15%2C985%2C980&r=cover&sig=b06770b44721cb02eecdc7cf1e7a11f399d492e3bf56142250f634c2a72a40bb&v=1&region=us',\n",
       " 'duration': 62,\n",
       " 'width': 1280,\n",
       " 'height': 720,\n",
       " 'tags': '',\n",
       " 'embed_privacy': 'anywhere'}"
      ]
     },
     "execution_count": 119,
     "metadata": {},
     "output_type": "execute_result"
    }
   ],
   "source": [
    "dados"
   ]
  },
  {
   "cell_type": "code",
   "execution_count": 121,
   "id": "83e03f29",
   "metadata": {},
   "outputs": [
    {
     "name": "stdout",
     "output_type": "stream",
     "text": [
      "titulo: The New Vimeo Player (You Know, For Videos)\n",
      "descricao: It may look (mostly) the same on the surface, but under the hood we totally rebuilt our player. Here’s a quick rundown of some of the coolest new features:<br />\n",
      "<br />\n",
      "• Lightning fast playback<br />\n",
      "• Redesigned Share screen<br />\n",
      "• Closed caption and subtitle compatible<br />\n",
      "• HTML5 by default<br />\n",
      "• Purchase-from-player functionality for embedded Vimeo On Demand trailers<br />\n",
      "• More responsive than ever (go ahead, resize it, we dare you!!!)<br />\n",
      "<br />\n",
      "We’re really proud of these updates. So proud that we made a spiffy new page to showcase all the reasons why we have the best video player in the galaxy. Check it out here: http://vimeo.com/player<br />\n",
      "<br />\n",
      "In short, this is a player that even haters can love.\n",
      "data: 2013-10-15 14:08:29\n",
      "tags: \n"
     ]
    }
   ],
   "source": [
    "print('titulo:', dados['title'])\n",
    "print('descricao:', dados['description'])\n",
    "print('data:', dados['upload_date'])\n",
    "print('tags:', dados['tags'])\n"
   ]
  },
  {
   "cell_type": "code",
   "execution_count": 122,
   "id": "bf8d0aae",
   "metadata": {},
   "outputs": [],
   "source": [
    "arquivo_fonte = 'cap06/arquivos/dados.json'\n",
    "arquivo_destino = 'cap06/arquivos/dados.txt'"
   ]
  },
  {
   "cell_type": "code",
   "execution_count": null,
   "id": "df61fc13",
   "metadata": {},
   "outputs": [],
   "source": [
    "# metodo 1\n",
    "with open(arquivo_fonte, 'r') as infile:\n",
    "    text = infile.read()\n",
    "    with open(arquivo_destino, 'w') as outfile:\n",
    "        outfile.write(text)"
   ]
  },
  {
   "cell_type": "code",
   "execution_count": null,
   "id": "41f95c53",
   "metadata": {},
   "outputs": [
    {
     "data": {
      "text/plain": [
       "107"
      ]
     },
     "execution_count": 124,
     "metadata": {},
     "output_type": "execute_result"
    }
   ],
   "source": [
    "# metodo 2\n",
    "open(arquivo_destino, 'w').write(open(arquivo_fonte, 'r').read())"
   ]
  },
  {
   "cell_type": "code",
   "execution_count": 126,
   "id": "837c3b2e",
   "metadata": {},
   "outputs": [],
   "source": [
    "with open('cap06/arquivos/dados.json', 'r') as arquivo:\n",
    "    texto = arquivo.read()\n",
    "    dados = json.loads(texto)"
   ]
  },
  {
   "cell_type": "code",
   "execution_count": 127,
   "id": "9989f979",
   "metadata": {},
   "outputs": [
    {
     "name": "stdout",
     "output_type": "stream",
     "text": [
      "{'nome': 'Guido van Rossum', 'linguagem': 'Python', 'similar': ['c', 'Modula-3', 'lisp'], 'users': 1000000}\n"
     ]
    }
   ],
   "source": [
    "print(dados)"
   ]
  },
  {
   "cell_type": "code",
   "execution_count": null,
   "id": "f4990c59",
   "metadata": {},
   "outputs": [],
   "source": []
  }
 ],
 "metadata": {
  "kernelspec": {
   "display_name": "Python 3",
   "language": "python",
   "name": "python3"
  },
  "language_info": {
   "codemirror_mode": {
    "name": "ipython",
    "version": 3
   },
   "file_extension": ".py",
   "mimetype": "text/x-python",
   "name": "python",
   "nbconvert_exporter": "python",
   "pygments_lexer": "ipython3",
   "version": "3.12.3"
  }
 },
 "nbformat": 4,
 "nbformat_minor": 5
}
