{
 "cells": [
  {
   "cell_type": "markdown",
   "id": "beb22c9f",
   "metadata": {},
   "source": [
    "## POO"
   ]
  },
  {
   "cell_type": "code",
   "execution_count": 1,
   "id": "95b38583",
   "metadata": {},
   "outputs": [],
   "source": [
    "class Livro():\n",
    "\n",
    "    def __init__(self):\n",
    "        self.titulo = \"sapiens - uma breve história da humanidade\"\n",
    "        self.isbn = \"978-85-254-0741-0\"\n",
    "        print(\"construtor chamado\")\n",
    "\n",
    "    def imprime(self):\n",
    "        print(\"Título:\", self.titulo)\n",
    "        print(\"ISBN:\", self.isbn)"
   ]
  },
  {
   "cell_type": "code",
   "execution_count": 2,
   "id": "e9d7c764",
   "metadata": {},
   "outputs": [
    {
     "name": "stdout",
     "output_type": "stream",
     "text": [
      "construtor chamado\n"
     ]
    }
   ],
   "source": [
    "Livro1 = Livro()"
   ]
  },
  {
   "cell_type": "code",
   "execution_count": 3,
   "id": "7e2fd63c",
   "metadata": {},
   "outputs": [
    {
     "data": {
      "text/plain": [
       "__main__.Livro"
      ]
     },
     "execution_count": 3,
     "metadata": {},
     "output_type": "execute_result"
    }
   ],
   "source": [
    "type(Livro1)"
   ]
  },
  {
   "cell_type": "code",
   "execution_count": 5,
   "id": "bd400554",
   "metadata": {},
   "outputs": [
    {
     "data": {
      "text/plain": [
       "'sapiens - uma breve história da humanidade'"
      ]
     },
     "execution_count": 5,
     "metadata": {},
     "output_type": "execute_result"
    }
   ],
   "source": [
    "Livro1.titulo"
   ]
  },
  {
   "cell_type": "code",
   "execution_count": 4,
   "id": "84cbf1da",
   "metadata": {},
   "outputs": [
    {
     "name": "stdout",
     "output_type": "stream",
     "text": [
      "Título: sapiens - uma breve história da humanidade\n",
      "ISBN: 978-85-254-0741-0\n"
     ]
    }
   ],
   "source": [
    "Livro1.imprime()"
   ]
  },
  {
   "cell_type": "code",
   "execution_count": null,
   "id": "7ad57600",
   "metadata": {},
   "outputs": [],
   "source": [
    "class Livro():\n",
    "\n",
    "    def __init__(self, titulo, isbn):\n",
    "        self.titulo = titulo\n",
    "        self.isbn = isbn\n",
    "        print(\"construtor chamado\")\n",
    "\n",
    "    def imprime(self, titulo, isbn):\n",
    "        print(\"Título: %s\\t ISBN: %d\" %(titulo, isbn))"
   ]
  },
  {
   "cell_type": "code",
   "execution_count": 9,
   "id": "39beb380",
   "metadata": {},
   "outputs": [
    {
     "name": "stdout",
     "output_type": "stream",
     "text": [
      "construtor chamado\n"
     ]
    }
   ],
   "source": [
    "Livro2 = Livro(\"O poder do hábito\", 879879879)"
   ]
  },
  {
   "cell_type": "code",
   "execution_count": 10,
   "id": "bdda92b9",
   "metadata": {},
   "outputs": [
    {
     "data": {
      "text/plain": [
       "'O poder do hábito'"
      ]
     },
     "execution_count": 10,
     "metadata": {},
     "output_type": "execute_result"
    }
   ],
   "source": [
    "Livro2.titulo"
   ]
  },
  {
   "cell_type": "code",
   "execution_count": 13,
   "id": "2489c3fb",
   "metadata": {},
   "outputs": [
    {
     "name": "stdout",
     "output_type": "stream",
     "text": [
      "Título: O poder do hábito\t ISBN: 879879879\n"
     ]
    }
   ],
   "source": [
    "Livro2.imprime(\"O poder do hábito\", 879879879)"
   ]
  },
  {
   "cell_type": "markdown",
   "id": "72d8bb8f",
   "metadata": {},
   "source": [
    "### Boa prática: nome de classe começa com letra maiúscula"
   ]
  },
  {
   "cell_type": "code",
   "execution_count": 14,
   "id": "2c2ff3d8",
   "metadata": {},
   "outputs": [],
   "source": [
    "class Algoritmo():\n",
    "\n",
    "    def __init__(self, tipo_algo):\n",
    "        self.tipo = tipo_algo\n",
    "        print(\"construtor chamado para criar um objeto desta classe\")"
   ]
  },
  {
   "cell_type": "code",
   "execution_count": 15,
   "id": "b3f8309e",
   "metadata": {},
   "outputs": [
    {
     "name": "stdout",
     "output_type": "stream",
     "text": [
      "construtor chamado para criar um objeto desta classe\n"
     ]
    }
   ],
   "source": [
    "algo1 = Algoritmo(tipo_algo='random forest')"
   ]
  },
  {
   "cell_type": "code",
   "execution_count": 17,
   "id": "989acbc3",
   "metadata": {},
   "outputs": [
    {
     "name": "stdout",
     "output_type": "stream",
     "text": [
      "construtor chamado para criar um objeto desta classe\n"
     ]
    }
   ],
   "source": [
    "algo2 = Algoritmo(tipo_algo='deep learning')"
   ]
  },
  {
   "cell_type": "code",
   "execution_count": 18,
   "id": "e756999f",
   "metadata": {},
   "outputs": [
    {
     "data": {
      "text/plain": [
       "'random forest'"
      ]
     },
     "execution_count": 18,
     "metadata": {},
     "output_type": "execute_result"
    }
   ],
   "source": [
    "algo1.tipo"
   ]
  },
  {
   "cell_type": "code",
   "execution_count": 19,
   "id": "423c2cb3",
   "metadata": {},
   "outputs": [
    {
     "data": {
      "text/plain": [
       "'deep learning'"
      ]
     },
     "execution_count": 19,
     "metadata": {},
     "output_type": "execute_result"
    }
   ],
   "source": [
    "algo2.tipo"
   ]
  },
  {
   "cell_type": "code",
   "execution_count": 21,
   "id": "3933da5c",
   "metadata": {},
   "outputs": [
    {
     "data": {
      "text/plain": [
       "__main__.Algoritmo"
      ]
     },
     "execution_count": 21,
     "metadata": {},
     "output_type": "execute_result"
    }
   ],
   "source": [
    "type(algo1)"
   ]
  },
  {
   "cell_type": "code",
   "execution_count": 22,
   "id": "afbf12a4",
   "metadata": {},
   "outputs": [],
   "source": [
    "lst_num = ['Data', 'Science', 'Academy', 'Nota', 10, 10]"
   ]
  },
  {
   "cell_type": "code",
   "execution_count": 23,
   "id": "94e1e188",
   "metadata": {},
   "outputs": [
    {
     "data": {
      "text/plain": [
       "list"
      ]
     },
     "execution_count": 23,
     "metadata": {},
     "output_type": "execute_result"
    }
   ],
   "source": [
    "type(lst_num)"
   ]
  },
  {
   "cell_type": "code",
   "execution_count": 24,
   "id": "c2627862",
   "metadata": {},
   "outputs": [
    {
     "data": {
      "text/plain": [
       "2"
      ]
     },
     "execution_count": 24,
     "metadata": {},
     "output_type": "execute_result"
    }
   ],
   "source": [
    "lst_num.count(10)"
   ]
  },
  {
   "cell_type": "code",
   "execution_count": 26,
   "id": "00223545",
   "metadata": {},
   "outputs": [
    {
     "name": "stdout",
     "output_type": "stream",
     "text": [
      "<class 'int'>\n",
      "<class 'list'>\n",
      "<class 'tuple'>\n",
      "<class 'dict'>\n",
      "<class 'str'>\n"
     ]
    }
   ],
   "source": [
    "print(type(10))\n",
    "print(type([]))\n",
    "print(type(()))\n",
    "print(type({}))\n",
    "print(type('a'))"
   ]
  },
  {
   "cell_type": "code",
   "execution_count": 27,
   "id": "569eb50a",
   "metadata": {},
   "outputs": [],
   "source": [
    "class Carro(object):\n",
    "    pass"
   ]
  },
  {
   "cell_type": "code",
   "execution_count": 28,
   "id": "3de00ce0",
   "metadata": {},
   "outputs": [],
   "source": [
    "ferrari = Carro()"
   ]
  },
  {
   "cell_type": "code",
   "execution_count": 29,
   "id": "b037ad4b",
   "metadata": {},
   "outputs": [
    {
     "data": {
      "text/plain": [
       "__main__.Carro"
      ]
     },
     "execution_count": 29,
     "metadata": {},
     "output_type": "execute_result"
    }
   ],
   "source": [
    "type(ferrari)"
   ]
  },
  {
   "cell_type": "code",
   "execution_count": 31,
   "id": "468497f0",
   "metadata": {},
   "outputs": [],
   "source": [
    "class Estudantes:\n",
    "    def __init__(self, nome, idade, nota):\n",
    "        self.nome = nome\n",
    "        self.idade = idade\n",
    "        self.nota = nota"
   ]
  },
  {
   "cell_type": "code",
   "execution_count": 32,
   "id": "1ca2d848",
   "metadata": {},
   "outputs": [],
   "source": [
    "Estudante1 = Estudantes('bob', 18, 10)"
   ]
  },
  {
   "cell_type": "code",
   "execution_count": 33,
   "id": "dbc9843b",
   "metadata": {},
   "outputs": [
    {
     "data": {
      "text/plain": [
       "10"
      ]
     },
     "execution_count": 33,
     "metadata": {},
     "output_type": "execute_result"
    }
   ],
   "source": [
    "Estudante1.nota"
   ]
  },
  {
   "cell_type": "code",
   "execution_count": 34,
   "id": "cb9f5e57",
   "metadata": {},
   "outputs": [
    {
     "data": {
      "text/plain": [
       "18"
      ]
     },
     "execution_count": 34,
     "metadata": {},
     "output_type": "execute_result"
    }
   ],
   "source": [
    "Estudante1.idade"
   ]
  },
  {
   "cell_type": "code",
   "execution_count": 35,
   "id": "af8eb263",
   "metadata": {},
   "outputs": [],
   "source": [
    "class Funcionarios:\n",
    "    def __init__(self, nome, salario, cargo):\n",
    "        self.nome = nome\n",
    "        self.salario = salario\n",
    "        self.cargo = cargo\n",
    "\n",
    "    def lstFunc(self):\n",
    "        print(\"nome: %s\\tsalario: %f\\tcargo: %s\" %(self.nome, self.salario, self.cargo))"
   ]
  },
  {
   "cell_type": "code",
   "execution_count": 36,
   "id": "97af8231",
   "metadata": {},
   "outputs": [],
   "source": [
    "Func1 = Funcionarios('mary', 2000, 'assistente')"
   ]
  },
  {
   "cell_type": "code",
   "execution_count": 37,
   "id": "930f709b",
   "metadata": {},
   "outputs": [
    {
     "name": "stdout",
     "output_type": "stream",
     "text": [
      "nome: mary\tsalario: 2000.000000\tcargo: assistente\n"
     ]
    }
   ],
   "source": [
    "Func1.lstFunc()"
   ]
  },
  {
   "cell_type": "markdown",
   "id": "bdbb0326",
   "metadata": {},
   "source": [
    "### has attribute"
   ]
  },
  {
   "cell_type": "code",
   "execution_count": 38,
   "id": "d5c2823a",
   "metadata": {},
   "outputs": [
    {
     "data": {
      "text/plain": [
       "True"
      ]
     },
     "execution_count": 38,
     "metadata": {},
     "output_type": "execute_result"
    }
   ],
   "source": [
    "hasattr(Func1, 'nome')"
   ]
  },
  {
   "cell_type": "code",
   "execution_count": 39,
   "id": "92218de9",
   "metadata": {},
   "outputs": [
    {
     "data": {
      "text/plain": [
       "True"
      ]
     },
     "execution_count": 39,
     "metadata": {},
     "output_type": "execute_result"
    }
   ],
   "source": [
    "hasattr(Func1, 'cargo')"
   ]
  },
  {
   "cell_type": "markdown",
   "id": "b7449b3f",
   "metadata": {},
   "source": [
    "### set attribute"
   ]
  },
  {
   "cell_type": "code",
   "execution_count": 40,
   "id": "c3eed0a3",
   "metadata": {},
   "outputs": [],
   "source": [
    "setattr(Func1, 'salario', 5000)"
   ]
  },
  {
   "cell_type": "markdown",
   "id": "5b02a3f0",
   "metadata": {},
   "source": [
    "### get attribute"
   ]
  },
  {
   "cell_type": "code",
   "execution_count": 41,
   "id": "de1e8c87",
   "metadata": {},
   "outputs": [
    {
     "data": {
      "text/plain": [
       "5000"
      ]
     },
     "execution_count": 41,
     "metadata": {},
     "output_type": "execute_result"
    }
   ],
   "source": [
    "getattr(Func1, 'salario')"
   ]
  },
  {
   "cell_type": "markdown",
   "id": "5fcbc939",
   "metadata": {},
   "source": [
    "## métodos"
   ]
  },
  {
   "cell_type": "code",
   "execution_count": 46,
   "id": "7d2f557e",
   "metadata": {},
   "outputs": [],
   "source": [
    "class Circulo():\n",
    "\n",
    "    pi = 3.14\n",
    "\n",
    "    def __init__(self, raio = 5):\n",
    "        self.raio = raio\n",
    "\n",
    "    def area(self):\n",
    "        return (self.raio * self.raio) * Circulo.pi\n",
    "    \n",
    "    def setRatio(self, novo_raio):\n",
    "        self.raio = novo_raio\n",
    "\n",
    "    def getRaio(self):\n",
    "        return self.raio"
   ]
  },
  {
   "cell_type": "code",
   "execution_count": 47,
   "id": "56d74467",
   "metadata": {},
   "outputs": [],
   "source": [
    "circ = Circulo()"
   ]
  },
  {
   "cell_type": "code",
   "execution_count": 48,
   "id": "c4463bd6",
   "metadata": {},
   "outputs": [
    {
     "data": {
      "text/plain": [
       "5"
      ]
     },
     "execution_count": 48,
     "metadata": {},
     "output_type": "execute_result"
    }
   ],
   "source": [
    "circ.getRaio()"
   ]
  },
  {
   "cell_type": "code",
   "execution_count": 49,
   "id": "7c27940a",
   "metadata": {},
   "outputs": [],
   "source": [
    "circ1 = Circulo(7)"
   ]
  },
  {
   "cell_type": "code",
   "execution_count": 50,
   "id": "f184f21a",
   "metadata": {},
   "outputs": [
    {
     "data": {
      "text/plain": [
       "7"
      ]
     },
     "execution_count": 50,
     "metadata": {},
     "output_type": "execute_result"
    }
   ],
   "source": [
    "circ1.getRaio()"
   ]
  },
  {
   "cell_type": "code",
   "execution_count": 51,
   "id": "75604594",
   "metadata": {},
   "outputs": [],
   "source": [
    "circ1.setRatio(9)"
   ]
  },
  {
   "cell_type": "code",
   "execution_count": 52,
   "id": "850bef02",
   "metadata": {},
   "outputs": [
    {
     "data": {
      "text/plain": [
       "9"
      ]
     },
     "execution_count": 52,
     "metadata": {},
     "output_type": "execute_result"
    }
   ],
   "source": [
    "circ1.getRaio()"
   ]
  },
  {
   "cell_type": "code",
   "execution_count": null,
   "id": "5502e9bc",
   "metadata": {},
   "outputs": [],
   "source": []
  }
 ],
 "metadata": {
  "kernelspec": {
   "display_name": "Python 3",
   "language": "python",
   "name": "python3"
  },
  "language_info": {
   "codemirror_mode": {
    "name": "ipython",
    "version": 3
   },
   "file_extension": ".py",
   "mimetype": "text/x-python",
   "name": "python",
   "nbconvert_exporter": "python",
   "pygments_lexer": "ipython3",
   "version": "3.12.3"
  }
 },
 "nbformat": 4,
 "nbformat_minor": 5
}
