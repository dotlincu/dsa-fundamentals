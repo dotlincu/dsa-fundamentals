{
 "cells": [
  {
   "cell_type": "markdown",
   "metadata": {},
   "source": [
    "loop for e while"
   ]
  },
  {
   "cell_type": "code",
   "execution_count": 10,
   "metadata": {},
   "outputs": [
    {
     "name": "stdout",
     "output_type": "stream",
     "text": [
      "1\n",
      "2\n",
      "3\n",
      "4\n",
      "5\n",
      "6\n",
      "7\n",
      "8\n",
      "9\n",
      "10\n"
     ]
    }
   ],
   "source": [
    "for i in range(1,11):\n",
    "    print(i)"
   ]
  },
  {
   "cell_type": "code",
   "execution_count": 5,
   "metadata": {},
   "outputs": [
    {
     "name": "stdout",
     "output_type": "stream",
     "text": [
      "0\n",
      "1\n",
      "2\n",
      "3\n",
      "4\n",
      "else\n"
     ]
    }
   ],
   "source": [
    "valor = 0\n",
    "while valor < 5:\n",
    "    print(valor)\n",
    "    valor += 1\n",
    "else:\n",
    "    print('else')"
   ]
  },
  {
   "cell_type": "code",
   "execution_count": 8,
   "metadata": {},
   "outputs": [
    {
     "name": "stdout",
     "output_type": "stream",
     "text": [
      "0\n",
      "1\n",
      "2\n",
      "3\n",
      "4\n"
     ]
    }
   ],
   "source": [
    "valor = 0\n",
    "while valor < 10:\n",
    "    if valor == 5:\n",
    "        break\n",
    "    else:\n",
    "        pass\n",
    "    print(valor)\n",
    "    valor += 1"
   ]
  },
  {
   "cell_type": "code",
   "execution_count": 9,
   "metadata": {},
   "outputs": [
    {
     "name": "stdout",
     "output_type": "stream",
     "text": [
      "1\n",
      "2\n",
      "3\n",
      "4\n",
      "6\n",
      "7\n",
      "8\n",
      "9\n",
      "10\n"
     ]
    }
   ],
   "source": [
    "for i in range(1,11):\n",
    "    if i == 5:\n",
    "        continue\n",
    "    print(i)"
   ]
  },
  {
   "cell_type": "markdown",
   "metadata": {},
   "source": [
    "built-in"
   ]
  },
  {
   "cell_type": "code",
   "execution_count": 11,
   "metadata": {},
   "outputs": [],
   "source": [
    "lista = [100,-2,3,7,0]"
   ]
  },
  {
   "cell_type": "code",
   "execution_count": 12,
   "metadata": {},
   "outputs": [
    {
     "data": {
      "text/plain": [
       "1"
      ]
     },
     "execution_count": 12,
     "metadata": {},
     "output_type": "execute_result"
    }
   ],
   "source": [
    "lista.count(100)"
   ]
  },
  {
   "cell_type": "code",
   "execution_count": 15,
   "metadata": {},
   "outputs": [
    {
     "name": "stdout",
     "output_type": "stream",
     "text": [
      "Help on built-in function count:\n",
      "\n",
      "count(value, /) method of builtins.list instance\n",
      "    Return number of occurrences of value.\n",
      "\n"
     ]
    }
   ],
   "source": [
    "help(lista.count)"
   ]
  },
  {
   "cell_type": "markdown",
   "metadata": {},
   "source": [
    "funcoes"
   ]
  },
  {
   "cell_type": "code",
   "execution_count": 20,
   "metadata": {},
   "outputs": [],
   "source": [
    "def um():\n",
    "    print('first function')\n",
    "\n",
    "def dois(nome):\n",
    "    print('hello %s' %(nome))"
   ]
  },
  {
   "cell_type": "code",
   "execution_count": 21,
   "metadata": {},
   "outputs": [
    {
     "name": "stdout",
     "output_type": "stream",
     "text": [
      "first function\n"
     ]
    }
   ],
   "source": [
    "um()"
   ]
  },
  {
   "cell_type": "code",
   "execution_count": 22,
   "metadata": {},
   "outputs": [
    {
     "name": "stdout",
     "output_type": "stream",
     "text": [
      "hello jose\n"
     ]
    }
   ],
   "source": [
    "dois('jose')"
   ]
  },
  {
   "cell_type": "code",
   "execution_count": 23,
   "metadata": {},
   "outputs": [
    {
     "data": {
      "text/plain": [
       "56"
      ]
     },
     "execution_count": 23,
     "metadata": {},
     "output_type": "execute_result"
    }
   ],
   "source": [
    "abs(-56)"
   ]
  },
  {
   "cell_type": "code",
   "execution_count": 24,
   "metadata": {},
   "outputs": [
    {
     "data": {
      "text/plain": [
       "False"
      ]
     },
     "execution_count": 24,
     "metadata": {},
     "output_type": "execute_result"
    }
   ],
   "source": [
    "bool(0)"
   ]
  },
  {
   "cell_type": "code",
   "execution_count": 26,
   "metadata": {},
   "outputs": [
    {
     "data": {
      "text/plain": [
       "'jose'"
      ]
     },
     "execution_count": 26,
     "metadata": {},
     "output_type": "execute_result"
    }
   ],
   "source": [
    "str('jose')"
   ]
  },
  {
   "cell_type": "code",
   "execution_count": 27,
   "metadata": {},
   "outputs": [],
   "source": [
    "import math\n",
    "\n",
    "def numPrimo(num):\n",
    "    if num % 2 == 0 and num > 2:\n",
    "        return 'não é primo'\n",
    "    for i in range(3, int(math.sqrt(num)) + 1, 2):\n",
    "        if num % i == 0:\n",
    "            return 'não é primo'\n",
    "    return 'é primo'"
   ]
  },
  {
   "cell_type": "code",
   "execution_count": 30,
   "metadata": {},
   "outputs": [
    {
     "data": {
      "text/plain": [
       "'não é primo'"
      ]
     },
     "execution_count": 30,
     "metadata": {},
     "output_type": "execute_result"
    }
   ],
   "source": [
    "numPrimo(444)"
   ]
  },
  {
   "cell_type": "code",
   "execution_count": 31,
   "metadata": {},
   "outputs": [],
   "source": [
    "def split_string(text):\n",
    "    return text.split(' ')"
   ]
  },
  {
   "cell_type": "code",
   "execution_count": 32,
   "metadata": {},
   "outputs": [
    {
     "name": "stdout",
     "output_type": "stream",
     "text": [
      "['hello', 'world']\n"
     ]
    }
   ],
   "source": [
    "print(split_string('hello world'))"
   ]
  },
  {
   "cell_type": "markdown",
   "metadata": {},
   "source": [
    "lambda"
   ]
  },
  {
   "cell_type": "code",
   "execution_count": 33,
   "metadata": {},
   "outputs": [],
   "source": [
    "def potencia(num):\n",
    "    return num ** 2"
   ]
  },
  {
   "cell_type": "code",
   "execution_count": 34,
   "metadata": {},
   "outputs": [
    {
     "data": {
      "text/plain": [
       "25"
      ]
     },
     "execution_count": 34,
     "metadata": {},
     "output_type": "execute_result"
    }
   ],
   "source": [
    "potencia(5)"
   ]
  },
  {
   "cell_type": "code",
   "execution_count": null,
   "metadata": {},
   "outputs": [],
   "source": [
    "def potencia(num): return num ** 2"
   ]
  },
  {
   "cell_type": "code",
   "execution_count": null,
   "metadata": {},
   "outputs": [],
   "source": [
    "# dessa forma nao é bom\n",
    "produto = lambda num: num ** 2"
   ]
  },
  {
   "cell_type": "code",
   "execution_count": 38,
   "metadata": {},
   "outputs": [
    {
     "data": {
      "text/plain": [
       "25"
      ]
     },
     "execution_count": 38,
     "metadata": {},
     "output_type": "execute_result"
    }
   ],
   "source": [
    "produto(5)"
   ]
  },
  {
   "cell_type": "code",
   "execution_count": 39,
   "metadata": {},
   "outputs": [],
   "source": [
    "Par = lambda x: x % 2 == 0"
   ]
  },
  {
   "cell_type": "code",
   "execution_count": 41,
   "metadata": {},
   "outputs": [
    {
     "data": {
      "text/plain": [
       "True"
      ]
     },
     "execution_count": 41,
     "metadata": {},
     "output_type": "execute_result"
    }
   ],
   "source": [
    "Par(18)"
   ]
  },
  {
   "cell_type": "code",
   "execution_count": 42,
   "metadata": {},
   "outputs": [],
   "source": [
    "first = lambda s: s[0]"
   ]
  },
  {
   "cell_type": "code",
   "execution_count": 43,
   "metadata": {},
   "outputs": [
    {
     "data": {
      "text/plain": [
       "100"
      ]
     },
     "execution_count": 43,
     "metadata": {},
     "output_type": "execute_result"
    }
   ],
   "source": [
    "first(lista)"
   ]
  },
  {
   "cell_type": "code",
   "execution_count": null,
   "metadata": {},
   "outputs": [],
   "source": [
    "addNum = lambda x,y: x + y"
   ]
  },
  {
   "cell_type": "code",
   "execution_count": 45,
   "metadata": {},
   "outputs": [
    {
     "data": {
      "text/plain": [
       "5"
      ]
     },
     "execution_count": 45,
     "metadata": {},
     "output_type": "execute_result"
    }
   ],
   "source": [
    "addNum(2,3)"
   ]
  },
  {
   "cell_type": "markdown",
   "metadata": {},
   "source": [
    "List Comprehension"
   ]
  },
  {
   "cell_type": "code",
   "execution_count": 46,
   "metadata": {},
   "outputs": [
    {
     "data": {
      "text/plain": [
       "[0, 1, 2, 3, 4, 5, 6, 7, 8, 9]"
      ]
     },
     "execution_count": 46,
     "metadata": {},
     "output_type": "execute_result"
    }
   ],
   "source": [
    "[x for x in range(10)]"
   ]
  },
  {
   "cell_type": "code",
   "execution_count": 48,
   "metadata": {},
   "outputs": [
    {
     "data": {
      "text/plain": [
       "[0, 1, 2, 3, 4, 5, 6, 7, 8, 9]"
      ]
     },
     "execution_count": 48,
     "metadata": {},
     "output_type": "execute_result"
    }
   ],
   "source": [
    "lista_numeros = [x for x in range(10)]\n",
    "lista_numeros"
   ]
  },
  {
   "cell_type": "code",
   "execution_count": 49,
   "metadata": {},
   "outputs": [
    {
     "data": {
      "text/plain": [
       "[0, 2, 4, 6, 8]"
      ]
     },
     "execution_count": 49,
     "metadata": {},
     "output_type": "execute_result"
    }
   ],
   "source": [
    "nova_lista = [x for x in range(10) if x % 2 == 0]\n",
    "nova_lista"
   ]
  },
  {
   "cell_type": "code",
   "execution_count": 52,
   "metadata": {},
   "outputs": [
    {
     "data": {
      "text/plain": [
       "{'bob': 68, 'maria': 81}"
      ]
     },
     "execution_count": 52,
     "metadata": {},
     "output_type": "execute_result"
    }
   ],
   "source": [
    "dict_alunos = {'bob':68, 'jose':56, 'maria':81}\n",
    "dict_alunos_status = {key:value for (key,value) in dict_alunos.items() if value > 60}\n",
    "dict_alunos_status"
   ]
  },
  {
   "cell_type": "code",
   "execution_count": 54,
   "metadata": {},
   "outputs": [
    {
     "data": {
      "text/plain": [
       "{'bob': 'reprovado', 'maria': 'aprovado'}"
      ]
     },
     "execution_count": 54,
     "metadata": {},
     "output_type": "execute_result"
    }
   ],
   "source": [
    "dict_alunos_status = {key:('aprovado' if value > 70 else 'reprovado') for (key,value) in dict_alunos.items() if value > 60}\n",
    "dict_alunos_status"
   ]
  },
  {
   "cell_type": "code",
   "execution_count": null,
   "metadata": {},
   "outputs": [
    {
     "name": "stdout",
     "output_type": "stream",
     "text": [
      "\n",
      "*******************************calculadora em python*******************************\n",
      "\n",
      "\n",
      "selecione a operacao:\n",
      "\n",
      "1-soma\n",
      "\n",
      "2-subtracao\n",
      "\n",
      "3-produto\n",
      "\n",
      "4-divisao\n",
      "\n",
      "5-sair\n",
      "\n",
      "\n",
      "digite a opcao: \n",
      "number1: \n",
      "number2: \n",
      "\n",
      "*******************************calculadora em python*******************************\n",
      "\n",
      "\n",
      "selecione a operacao:\n",
      "\n",
      "1-soma\n",
      "\n",
      "2-subtracao\n",
      "\n",
      "3-produto\n",
      "\n",
      "4-divisao\n",
      "\n",
      "5-sair\n",
      "\n",
      "\n",
      "digite a opcao: \n",
      "number1: \n",
      "number2: \n",
      "\n",
      "*******************************calculadora em python*******************************\n",
      "\n",
      "\n",
      "selecione a operacao:\n",
      "\n",
      "1-soma\n",
      "\n",
      "2-subtracao\n",
      "\n",
      "3-produto\n",
      "\n",
      "4-divisao\n",
      "\n",
      "5-sair\n",
      "\n",
      "\n",
      "digite a opcao: \n",
      "number1: \n",
      "number2: \n",
      "\n",
      "*******************************calculadora em python*******************************\n",
      "\n",
      "\n",
      "selecione a operacao:\n",
      "\n",
      "1-soma\n",
      "\n",
      "2-subtracao\n",
      "\n",
      "3-produto\n",
      "\n",
      "4-divisao\n",
      "\n",
      "5-sair\n",
      "\n",
      "\n",
      "digite a opcao: \n",
      "number1: \n",
      "number2: \n",
      "\n",
      "*******************************calculadora em python*******************************\n",
      "\n",
      "\n",
      "selecione a operacao:\n",
      "\n",
      "1-soma\n",
      "\n",
      "2-subtracao\n",
      "\n",
      "3-produto\n",
      "\n",
      "4-divisao\n",
      "\n",
      "5-sair\n",
      "\n",
      "\n",
      "digite a opcao: \n",
      "number1: \n",
      "number2: \n",
      "\n",
      "*******************************calculadora em python*******************************\n",
      "\n",
      "\n",
      "selecione a operacao:\n",
      "\n",
      "1-soma\n",
      "\n",
      "2-subtracao\n",
      "\n",
      "3-produto\n",
      "\n",
      "4-divisao\n",
      "\n",
      "5-sair\n",
      "\n",
      "\n",
      "digite a opcao: \n",
      "number1: \n",
      "number2: \n",
      "\n",
      "*******************************calculadora em python*******************************\n",
      "\n",
      "\n",
      "selecione a operacao:\n",
      "\n",
      "1-soma\n",
      "\n",
      "2-subtracao\n",
      "\n",
      "3-produto\n",
      "\n",
      "4-divisao\n",
      "\n",
      "5-sair\n",
      "\n",
      "\n",
      "digite a opcao: \n",
      "number1: \n",
      "number2: \n",
      "\n",
      "*******************************calculadora em python*******************************\n",
      "\n",
      "\n",
      "selecione a operacao:\n",
      "\n",
      "1-soma\n",
      "\n",
      "2-subtracao\n",
      "\n",
      "3-produto\n",
      "\n",
      "4-divisao\n",
      "\n",
      "5-sair\n",
      "\n",
      "\n",
      "digite a opcao: \n",
      "number1: \n",
      "number2: \n",
      "\n",
      "*******************************calculadora em python*******************************\n",
      "\n",
      "\n",
      "selecione a operacao:\n",
      "\n",
      "1-soma\n",
      "\n",
      "2-subtracao\n",
      "\n",
      "3-produto\n",
      "\n",
      "4-divisao\n",
      "\n",
      "5-sair\n",
      "\n",
      "\n",
      "digite a opcao: \n"
     ]
    }
   ],
   "source": [
    "def cabecalho():\n",
    "\tprint('\\n*******************************calculadora em python*******************************')\n",
    "\tprint('\\n\\nselecione a operacao:')\n",
    "\tprint('\\n1-soma')\n",
    "\tprint('\\n2-subtracao')\n",
    "\tprint('\\n3-produto')\n",
    "\tprint('\\n4-divisao')\n",
    "\tprint('\\n5-sair')\n",
    "\n",
    "def soma(a, b): print(a + b)\n",
    "\n",
    "def subtracao(a, b): print(a - b)\n",
    "\n",
    "def produto(a, b): print(a * b)\n",
    "\n",
    "def divisao(a, b): \n",
    "\tif b == 0:\n",
    "\t\treturn print('\\n\\nerror')\n",
    "\telse: \n",
    "\t\tprint(a / b)\n",
    "\n",
    "def numbers():\n",
    "\ta = int(input('number1: '))\n",
    "\tb = int(input('number2: '))\n",
    "\treturn a, b\n",
    "\n",
    "aux = 0\n",
    "cabecalho()\n",
    "\n",
    "while aux != 5:\n",
    "\taux = int(input(\"\\noption: \"))\n",
    "\tif aux == 1:\n",
    "\t\tprint('\\nsoma')\n",
    "\t\ta,b = numbers()\n",
    "\t\tsoma(a,b)\n",
    "\telif aux == 2:\n",
    "\t\tprint('\\nsubtracao')\n",
    "\t\ta,b = numbers()\n",
    "\t\tsubtracao(a,b)\n",
    "\telif aux == 3:\n",
    "\t\tprint('\\nproduto')\n",
    "\t\ta,b = numbers()\n",
    "\t\tproduto(a,b)\n",
    "\telif aux == 4:\n",
    "\t\tprint('\\ndivisao')\n",
    "\t\ta,b = numbers()\n",
    "\t\tdivisao(a,b)\n",
    "\telif aux == 5:\n",
    "\t\tprint('\\nleaving')\n",
    "\telse:\n",
    "\t\tprint('\\n\\ninvalid option')\n",
    "\n",
    "print('bye')"
   ]
  }
 ],
 "metadata": {
  "kernelspec": {
   "display_name": "Python 3",
   "language": "python",
   "name": "python3"
  },
  "language_info": {
   "codemirror_mode": {
    "name": "ipython",
    "version": 3
   },
   "file_extension": ".py",
   "mimetype": "text/x-python",
   "name": "python",
   "nbconvert_exporter": "python",
   "pygments_lexer": "ipython3",
   "version": "3.12.3"
  }
 },
 "nbformat": 4,
 "nbformat_minor": 2
}
